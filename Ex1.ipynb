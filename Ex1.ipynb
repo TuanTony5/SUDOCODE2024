{
 "cells": [
  {
   "cell_type": "code",
   "execution_count": 1,
   "metadata": {},
   "outputs": [
    {
     "name": "stderr",
     "output_type": "stream",
     "text": [
      "/home/tuanphan/miniconda3/envs/all_in/lib/python3.10/site-packages/torch/cuda/__init__.py:128: UserWarning: CUDA initialization: CUDA unknown error - this may be due to an incorrectly set up environment, e.g. changing env variable CUDA_VISIBLE_DEVICES after program start. Setting the available devices to be zero. (Triggered internally at ../c10/cuda/CUDAFunctions.cpp:108.)\n",
      "  return torch._C._cuda_getDeviceCount() > 0\n",
      "/home/tuanphan/miniconda3/envs/all_in/lib/python3.10/site-packages/tqdm/auto.py:21: TqdmWarning: IProgress not found. Please update jupyter and ipywidgets. See https://ipywidgets.readthedocs.io/en/stable/user_install.html\n",
      "  from .autonotebook import tqdm as notebook_tqdm\n"
     ]
    }
   ],
   "source": [
    "import nltk\n",
    "import spacy\n",
    "import re\n",
    "import underthesea as ud # Library for Vietnamese NLP\n",
    "\n",
    "import pandas as pd\n",
    "import json"
   ]
  },
  {
   "cell_type": "markdown",
   "metadata": {},
   "source": [
    "# 1. Import dataset"
   ]
  },
  {
   "cell_type": "code",
   "execution_count": 2,
   "metadata": {},
   "outputs": [],
   "source": [
    "df = pd.read_json('news_dataset.json')"
   ]
  },
  {
   "cell_type": "code",
   "execution_count": 3,
   "metadata": {},
   "outputs": [
    {
     "data": {
      "text/html": [
       "<div>\n",
       "<style scoped>\n",
       "    .dataframe tbody tr th:only-of-type {\n",
       "        vertical-align: middle;\n",
       "    }\n",
       "\n",
       "    .dataframe tbody tr th {\n",
       "        vertical-align: top;\n",
       "    }\n",
       "\n",
       "    .dataframe thead th {\n",
       "        text-align: right;\n",
       "    }\n",
       "</style>\n",
       "<table border=\"1\" class=\"dataframe\">\n",
       "  <thead>\n",
       "    <tr style=\"text-align: right;\">\n",
       "      <th></th>\n",
       "      <th>id</th>\n",
       "      <th>author</th>\n",
       "      <th>content</th>\n",
       "      <th>picture_count</th>\n",
       "      <th>processed</th>\n",
       "      <th>source</th>\n",
       "      <th>title</th>\n",
       "      <th>topic</th>\n",
       "      <th>url</th>\n",
       "      <th>crawled_at</th>\n",
       "    </tr>\n",
       "  </thead>\n",
       "  <tbody>\n",
       "    <tr>\n",
       "      <th>0</th>\n",
       "      <td>218270</td>\n",
       "      <td></td>\n",
       "      <td>Chiều 31/7, Công an tỉnh Thừa Thiên - Huế đã c...</td>\n",
       "      <td>3</td>\n",
       "      <td>0</td>\n",
       "      <td>docbao.vn</td>\n",
       "      <td>Tên cướp tiệm vàng tại Huế là đại uý công an, ...</td>\n",
       "      <td>Pháp luật</td>\n",
       "      <td>https://docbao.vn/phap-luat/ten-cuop-tiem-vang...</td>\n",
       "      <td>2022-08-01 09:09:22.817308</td>\n",
       "    </tr>\n",
       "    <tr>\n",
       "      <th>1</th>\n",
       "      <td>218269</td>\n",
       "      <td>(Nguồn: Sina)</td>\n",
       "      <td>Gần đây, Thứ trưởng Bộ Phát triển Kỹ thuật số,...</td>\n",
       "      <td>1</td>\n",
       "      <td>0</td>\n",
       "      <td>vtc.vn</td>\n",
       "      <td>Bỏ qua mạng 5G, Nga tiến thẳng từ 4G lên 6G</td>\n",
       "      <td>Sống kết nối</td>\n",
       "      <td>https://vtc.vn/bo-qua-mang-5g-nga-tien-thang-t...</td>\n",
       "      <td>2022-08-01 09:09:21.181469</td>\n",
       "    </tr>\n",
       "  </tbody>\n",
       "</table>\n",
       "</div>"
      ],
      "text/plain": [
       "       id         author                                            content  \\\n",
       "0  218270                 Chiều 31/7, Công an tỉnh Thừa Thiên - Huế đã c...   \n",
       "1  218269  (Nguồn: Sina)  Gần đây, Thứ trưởng Bộ Phát triển Kỹ thuật số,...   \n",
       "\n",
       "   picture_count  processed     source  \\\n",
       "0              3          0  docbao.vn   \n",
       "1              1          0     vtc.vn   \n",
       "\n",
       "                                               title         topic  \\\n",
       "0  Tên cướp tiệm vàng tại Huế là đại uý công an, ...     Pháp luật   \n",
       "1        Bỏ qua mạng 5G, Nga tiến thẳng từ 4G lên 6G  Sống kết nối   \n",
       "\n",
       "                                                 url  \\\n",
       "0  https://docbao.vn/phap-luat/ten-cuop-tiem-vang...   \n",
       "1  https://vtc.vn/bo-qua-mang-5g-nga-tien-thang-t...   \n",
       "\n",
       "                  crawled_at  \n",
       "0 2022-08-01 09:09:22.817308  \n",
       "1 2022-08-01 09:09:21.181469  "
      ]
     },
     "execution_count": 3,
     "metadata": {},
     "output_type": "execute_result"
    }
   ],
   "source": [
    "df.head(2)"
   ]
  },
  {
   "cell_type": "code",
   "execution_count": null,
   "metadata": {},
   "outputs": [],
   "source": [
    "df.info()"
   ]
  },
  {
   "cell_type": "markdown",
   "metadata": {},
   "source": [
    "# Create stopword base on dataset: Chạy colab, chạy local nếu muốn banh máy :DD"
   ]
  },
  {
   "cell_type": "code",
   "execution_count": 17,
   "metadata": {},
   "outputs": [],
   "source": [
    "from collections import Counter\n",
    "from multiprocessing import Pool\n",
    "from concurrent.futures import ThreadPoolExecutor\n",
    "\n",
    "# Hàm đếm từ cho từng phần\n",
    "def count_words(texts):\n",
    "    all_text = ' '.join(texts)\n",
    "    normalized_text = ud.text_normalize(all_text)\n",
    "    words = ud.word_tokenize(normalized_text)\n",
    "    return Counter(words)\n",
    "\n",
    "# Hàm xử lý chunk với ThreadPoolExecutor\n",
    "def process_chunk(chunk):\n",
    "    with ThreadPoolExecutor() as executor:\n",
    "        futures = [executor.submit(count_words, [text]) for text in chunk]\n",
    "        results = [future.result() for future in futures]\n",
    "    return sum(results, Counter())  # Gộp kết quả từ các thread\n",
    "\n",
    "if __name__ == \"__main__\":\n",
    "    # Giả sử df['content'] chứa 180k row\n",
    "    num_cpus = 32  # Hoặc sử dụng cpu_count() để lấy số CPU trên máy\n",
    "\n",
    "    # Chia dữ liệu thành 32 phần dựa trên số CPU\n",
    "    chunk_size = (len(df) // num_cpus) + 1\n",
    "    chunks = [df['content'][i:i + chunk_size] for i in range(0, len(df), chunk_size)]\n",
    "\n",
    "    # Tạo Pool để xử lý song song từng chunk\n",
    "    with Pool(processes=num_cpus) as pool:\n",
    "        results = pool.map(process_chunk, chunks)\n",
    "\n",
    "    # Gộp kết quả từ tất cả các chunk\n",
    "    word_counts = Counter()\n",
    "    for result in results:\n",
    "        word_counts.update(result)\n",
    "\n",
    "    # Tạo danh sách từ dừng (stopwords)\n",
    "    # total_words = sum(word_counts.values())\n",
    "    stopwords = {word: count for word, count in word_counts.items()}\n",
    "\n",
    "\n",
    "    # Lưu bộ từ dừng dưới dạng JSON\n",
    "    with open('stopwords.json', 'w', encoding='utf-8') as f:\n",
    "        json.dump(stopwords, f, ensure_ascii=False, indent=4)\n"
   ]
  },
  {
   "cell_type": "markdown",
   "metadata": {},
   "source": [
    "# 2. Xử lý với 1 content mẫu"
   ]
  },
  {
   "cell_type": "code",
   "execution_count": 5,
   "metadata": {},
   "outputs": [
    {
     "data": {
      "text/plain": [
       "\"Chiều 31/7, Công an tỉnh Thừa Thiên - Huế đã có thông tin ban đầu về vụ nổ súng,cướp tiệm vàng tại chợ Đông Ba nằm trên đường Trần Hưng Đạo (TP Huế, tỉnh Thừa Thiên - Huế). Thông Sài Gòn Giải Phóng, khoảng 12h30' ngày 31/7, một đối tượng sử dụng súng AK bất ngờ xông vào tiệm vàng Hoàng Đức và Thái Lợi (phía trước chợ Đông Ba) rồi nổ súng chỉ thiên liên tiếp uy hiếp chủ tiệm để cướp vàng. Sau đó, đối tượng mang số vàng vừa cướp được vứt ra vỉa hè rồi đi bộ đến khu vực cầu Gia Hội, cách khu vực gây án khoảng 300m. Giám đốc Công an tỉnh Thừa Thiên – Huế lập tức trực tiếp chỉ đạo các lực lượng chức năng gồm Công an tỉnh và Công an TP Huế nhanh chóng có mặt tại hiện trường triển khai đồng bộ các biện pháp nghiệp vụ, khoanh vùng và ngăn không để người dân đi vào hiện trường. Hàng trăm tiểu thương trong chợ Đông Ba và người dân gần cầu Gia Hội được yêu cầu di chuyển khỏi hiện trường, đóng cửa nhà đề phòng đạn lạc. Tuy nhiên, thấy vàng bị ném ra đường, nhiều người đua nhau nhặt, tạo cảnh nhốn nháo trước cổng chợ. Do đây là khu vực trung tâm TP Huế, đông dân nên để đảm bảo an toàn cho người dân, lực lượng công an đã tìm cách hướng đối tượng ra nhà lục giác tại khu vực Công viên Trịnh Công Sơn (cạnh cầu Gia Hội). Lúc này, đối tượng có biểu hiện kích động muốn tự tử nên Đại tá Phạm Văn Toàn, Trưởng Phòng Cảnh sát hình sự Công an tỉnh Thừa Thiên – Huế và một số đồng chí Công an khác trực tiếp tiếp cận, thuyết phục đối tượng. Đối tượng lại yêu cầu được nói chuyện với Đại tá Đặng Ngọc Sơn, Phó Giám đốc Công an tỉnh. Ngay sau đó, khi được Đại tá Đặng Ngọc Sơn gặp gỡ, động viên, thuyết phục, đối tượng đã đồng ý hạ và giao nộp vũ khí. Theo VnExpress cho biết, tên cướp là Ngô Văn Quốc, 38 tuổi, quân hàm đại úy, công tác tại Trại giam Bình Điền, đóng ở xã Bình Tiến, thị xã Hương Trà. Khẩu súng gây án đã bị thu giữ. Hiện trường hai tiệm vàng bị phong tỏa để công an khám nghiệm. Phía trong nhiều mảnh kính bị vỡ văng vãi khắp nơi. Đông Ba là chợ nổi tiếng và sầm uất nhất TP Huế, nằm bên bờ bắc sông Hương, trên đường Trần Hưng Đạo. Nơi đây thu hút nhiều du khách trong và ngoài nước trong hành trình du lịch Huế. Theo MT (2sao/VietNamNet) https://2sao.vn/ten-cuop-tiem-vang-tai-hue-la-dai-uy-cong-an-cong-tac-tai-trai-giam-n-315312.html Trang Thông tin điện tử Docbao.vn Công ty Cổ phần Quang Minh Việt Nam Giấy phép thiết lập Trang thông tin điện tử tổng hợp trên Internet số 2372/GP-STTTT cấp ngày 29/8/2014. SĐT: 024. 666.40816 Địa chỉ: P604, Tầng 6, Tòa nhà Golden Field, Khu đô thị mới Mỹ Đình 1, phường Cầu Diễn, quận Nam Từ Liêm, Hà Nội Chịu trách nhiệm nội dung: Điều Thị Bích; ĐT: 0903.263.198; Email: docbao@kib.vn Đọc báo trực tuyến hiện tại chỉ sử dụng tên miền duy nhất là docbao.vn; độc giả lưu ý tránh nhầm lẫn. Chính sách bảo mật RSS\""
      ]
     },
     "execution_count": 5,
     "metadata": {},
     "output_type": "execute_result"
    }
   ],
   "source": [
    "text = df['content'][0]\n",
    "text"
   ]
  },
  {
   "cell_type": "markdown",
   "metadata": {},
   "source": [
    "- Remove phones, emails, URL, special characters\n",
    "(using Re)"
   ]
  },
  {
   "cell_type": "markdown",
   "metadata": {},
   "source": [
    "- Tokenization"
   ]
  },
  {
   "cell_type": "code",
   "execution_count": null,
   "metadata": {},
   "outputs": [],
   "source": [
    "# from underthesea import sent_tokenize,word_tokenize\n",
    "ud.sent_tokenize(text)"
   ]
  },
  {
   "cell_type": "code",
   "execution_count": null,
   "metadata": {},
   "outputs": [],
   "source": [
    "def preprocess(text):\n",
    "    \n",
    "    # Text normalization\n",
    "    text_normalized = ud.text_normalize(text)\n",
    "\n",
    "    # Note: Nếu là tiếng Anh thì đoạn này sẽ làm Lemma hoặc Stemm, \n",
    "    # Còn với tiếng Việt thì không cần\n",
    "\n",
    "    # # Sentence segmentation\n",
    "    # sents = ud.sent_tokenize(text_normalized)\n",
    "\n",
    "    # Word tokenization\n",
    "    tokens = ud.word_tokenize(text_normalized)\n",
    "\n",
    "    # Remove stop words,number,noise...\n",
    "    def removed_tokens(word_tokens):\n",
    "        return [token for token in word_tokens if ]\n",
    "\n",
    "    # Combine again to sentence\n",
    "    \n",
    "    # POS tagging\n",
    "    pos_list = ud.pos_tag(text_normalized)\n",
    "\n",
    "    \n",
    "\n",
    "\n",
    "\n",
    "    \n",
    "\n",
    "    "
   ]
  },
  {
   "cell_type": "code",
   "execution_count": 43,
   "metadata": {},
   "outputs": [
    {
     "data": {
      "text/plain": [
       "\"Chiều 31/7, Công an tỉnh Thừa Thiên - Huế đã có thông tin ban đầu về vụ nổ súng,cướp tiệm vàng tại chợ Đông Ba nằm trên đường Trần Hưng Đạo (TP Huế, tỉnh Thừa Thiên - Huế). Thông Sài Gòn Giải Phóng, khoảng 12h30' ngày 31/7, một đối tượng sử dụng súng AK bất ngờ xông vào tiệm vàng Hoàng Đức và Thái Lợi (phía trước chợ Đông Ba) rồi nổ súng chỉ thiên liên tiếp uy hiếp chủ tiệm để cướp vàng. Sau đó, đối tượng mang số vàng vừa cướp được vứt ra vỉa hè rồi đi bộ đến khu vực cầu Gia Hội, cách khu vực gây án khoảng 300m. Giám đốc Công an tỉnh Thừa Thiên – Huế lập tức trực tiếp chỉ đạo các lực lượng chức năng gồm Công an tỉnh và Công an TP Huế nhanh chóng có mặt tại hiện trường triển khai đồng bộ các biện pháp nghiệp vụ, khoanh vùng và ngăn không để người dân đi vào hiện trường. Hàng trăm tiểu thương trong chợ Đông Ba và người dân gần cầu Gia Hội được yêu cầu di chuyển khỏi hiện trường, đóng cửa nhà đề phòng đạn lạc. Tuy nhiên, thấy vàng bị ném ra đường, nhiều người đua nhau nhặt, tạo cảnh nhốn nháo trước cổng chợ. Do đây là khu vực trung tâm TP Huế, đông dân nên để đảm bảo an toàn cho người dân, lực lượng công an đã tìm cách hướng đối tượng ra nhà lục giác tại khu vực Công viên Trịnh Công Sơn (cạnh cầu Gia Hội). Lúc này, đối tượng có biểu hiện kích động muốn tự tử nên Đại tá Phạm Văn Toàn, Trưởng Phòng Cảnh sát hình sự Công an tỉnh Thừa Thiên – Huế và một số đồng chí Công an khác trực tiếp tiếp cận, thuyết phục đối tượng. Đối tượng lại yêu cầu được nói chuyện với Đại tá Đặng Ngọc Sơn, Phó Giám đốc Công an tỉnh. Ngay sau đó, khi được Đại tá Đặng Ngọc Sơn gặp gỡ, động viên, thuyết phục, đối tượng đã đồng ý hạ và giao nộp vũ khí. Theo VnExpress cho biết, tên cướp là Ngô Văn Quốc, 38 tuổi, quân hàm đại úy, công tác tại Trại giam Bình Điền, đóng ở xã Bình Tiến, thị xã Hương Trà. Khẩu súng gây án đã bị thu giữ. Hiện trường hai tiệm vàng bị phong tỏa để công an khám nghiệm. Phía trong nhiều mảnh kính bị vỡ văng vãi khắp nơi. Đông Ba là chợ nổi tiếng và sầm uất nhất TP Huế, nằm bên bờ bắc sông Hương, trên đường Trần Hưng Đạo. Nơi đây thu hút nhiều du khách trong và ngoài nước trong hành trình du lịch Huế. Theo MT (2sao/VietNamNet)  Trang Thông tin điện tử Docbao.vn Công ty Cổ phần Quang Minh Việt Nam Giấy phép thiết lập Trang thông tin điện tử tổng hợp trên Internet số 2372/GP-STTTT cấp ngày 29/8/2014. SĐT: 024. 666.40816 Địa chỉ: P604, Tầng 6, Tòa nhà Golden Field, Khu đô thị mới Mỹ Đình 1, phường Cầu Diễn, quận Nam Từ Liêm, Hà Nội Chịu trách nhiệm nội dung: Điều Thị Bích; ĐT: 0903.263.198; Email: docbao@kib.vn Đọc báo trực tuyến hiện tại chỉ sử dụng tên miền duy nhất là docbao.vn; độc giả lưu ý tránh nhầm lẫn. Chính sách bảo mật RSS\""
      ]
     },
     "execution_count": 43,
     "metadata": {},
     "output_type": "execute_result"
    }
   ],
   "source": [
    "text"
   ]
  },
  {
   "cell_type": "code",
   "execution_count": 4,
   "metadata": {},
   "outputs": [],
   "source": [
    "import underthesea as ud"
   ]
  },
  {
   "cell_type": "code",
   "execution_count": 5,
   "metadata": {},
   "outputs": [
    {
     "ename": "NameError",
     "evalue": "name 'df' is not defined",
     "output_type": "error",
     "traceback": [
      "\u001b[0;31m---------------------------------------------------------------------------\u001b[0m",
      "\u001b[0;31mNameError\u001b[0m                                 Traceback (most recent call last)",
      "Cell \u001b[0;32mIn[5], line 1\u001b[0m\n\u001b[0;32m----> 1\u001b[0m ud\u001b[38;5;241m.\u001b[39mword_tokenize(ud\u001b[38;5;241m.\u001b[39mtext_normalize(\u001b[38;5;124m'\u001b[39m\u001b[38;5;124m'\u001b[39m\u001b[38;5;241m.\u001b[39mjoin(\u001b[43mdf\u001b[49m[\u001b[38;5;124m'\u001b[39m\u001b[38;5;124mcontent\u001b[39m\u001b[38;5;124m'\u001b[39m][\u001b[38;5;241m0\u001b[39m])))\n",
      "\u001b[0;31mNameError\u001b[0m: name 'df' is not defined"
     ]
    }
   ],
   "source": [
    "ud.word_tokenize(ud.text_normalize(''.join(df['content'][0])))"
   ]
  },
  {
   "cell_type": "code",
   "execution_count": null,
   "metadata": {},
   "outputs": [],
   "source": []
  }
 ],
 "metadata": {
  "kernelspec": {
   "display_name": "all_in",
   "language": "python",
   "name": "python3"
  },
  "language_info": {
   "codemirror_mode": {
    "name": "ipython",
    "version": 3
   },
   "file_extension": ".py",
   "mimetype": "text/x-python",
   "name": "python",
   "nbconvert_exporter": "python",
   "pygments_lexer": "ipython3",
   "version": "3.10.14"
  }
 },
 "nbformat": 4,
 "nbformat_minor": 2
}
